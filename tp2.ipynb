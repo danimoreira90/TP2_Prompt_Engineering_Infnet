{
 "cells": [
  {
   "cell_type": "code",
   "execution_count": 1,
   "metadata": {},
   "outputs": [],
   "source": [
    "import pandas, requests"
   ]
  },
  {
   "cell_type": "code",
   "execution_count": 5,
   "metadata": {},
   "outputs": [],
   "source": [
    "import google.generativeai as genai\n",
    "import os\n",
    "from dotenv import load_dotenv"
   ]
  },
  {
   "cell_type": "code",
   "execution_count": 10,
   "metadata": {},
   "outputs": [
    {
     "data": {
      "text/plain": [
       "True"
      ]
     },
     "execution_count": 10,
     "metadata": {},
     "output_type": "execute_result"
    }
   ],
   "source": [
    "load_dotenv('D:\\Pastas\\Infnet\\Infnet - 2024.2\\Engenharia de Prompts\\TP2\\.env')"
   ]
  },
  {
   "cell_type": "code",
   "execution_count": 11,
   "metadata": {},
   "outputs": [
    {
     "name": "stdout",
     "output_type": "stream",
     "text": [
      "Elara wasn't a thief. Not technically. But, the allure of the dusty antique shop on the edge of town was hard to resist. It was a haven for the forgotten, a place where whispers of past lives clung to every chipped china teacup and faded tapestry. And in the corner, draped over a rickety stool, sat the most peculiar backpack she had ever seen. \n",
      "\n",
      "It was woven from moonlight, its threads shimmered with an ethereal glow. A faint, floral scent drifted from its depths, tempting Elara closer. She hesitantly reached out, her fingers brushing against the smooth, cool fabric. A surge of energy coursed through her, leaving her breathless. \n",
      "\n",
      "The shop owner, a wizened woman with eyes like faded sapphires, observed her with a knowing smile. \"It's a magic backpack, child. It holds the secrets of the world,\" she rasped, her voice a dry whisper. \"But be warned, its contents change with each journey.\" \n",
      "\n",
      "Intrigued and a little scared, Elara decided to take the backpack on a hike through the Whispering Woods. As she trekked deeper into the forest, the backpack seemed to hum with anticipation. When she finally reached a hidden waterfall, she unzipped it, expecting the usual clutter of trinkets and forgotten treasures. Instead, she found a finely-crafted flute, carved from ancient wood. The moment she brought it to her lips, the air filled with the most beautiful music, a melody that spoke of rushing water and whispering leaves. \n",
      "\n",
      "The next day, Elara took the backpack to the bustling marketplace. Inside, she discovered a book, its pages filled with recipes for the most delectable dishes from far-off lands.  She spent the afternoon whipping up a spicy curry, the aromas filling the marketplace and drawing customers to her stall.\n",
      "\n",
      "Elara’s life became a tapestry woven with the backpack’s magical gifts. A day in the bustling city yielded a paintbrush that painted masterpieces with a single stroke, while a visit to the bustling docks presented a map that led to hidden treasure on a deserted island. \n",
      "\n",
      "But with each new adventure, a nagging doubt crept in. The backpack was a gift, yes, but it was also a burden.  Each new possession was a fleeting experience, a tantalizing glimpse into a world she could only touch, never truly own. \n",
      "\n",
      "One morning, Elara woke up with a newfound clarity. She didn't need the backpack to make her life extraordinary. She had her own stories to tell, her own adventures to seek. She packed the backpack, placing it carefully on the antique shop's dusty stool.  The old woman looked at her with a knowing smile. \n",
      "\n",
      "\"You are ready for your own magic,\" she said, her eyes twinkling. \"The real magic is in the journey, not the destination.\" \n",
      "\n",
      "Elara smiled, her heart filled with a quiet contentment. The world was waiting, and she was ready to explore it, not with a magic backpack, but with her own courage, her own dreams, and her own magic. \n",
      "\n"
     ]
    }
   ],
   "source": [
    "model = genai.GenerativeModel(\"gemini-1.5-flash\")\n",
    "genai.configure(api_key=os.environ[\"GEMINI_KEY\"])\n",
    "response = model.generate_content(\"Write a story about a magic backpack.\")\n",
    "print(response.text)"
   ]
  }
 ],
 "metadata": {
  "kernelspec": {
   "display_name": "Python 3",
   "language": "python",
   "name": "python3"
  },
  "language_info": {
   "codemirror_mode": {
    "name": "ipython",
    "version": 3
   },
   "file_extension": ".py",
   "mimetype": "text/x-python",
   "name": "python",
   "nbconvert_exporter": "python",
   "pygments_lexer": "ipython3",
   "version": "3.11.2"
  }
 },
 "nbformat": 4,
 "nbformat_minor": 2
}
