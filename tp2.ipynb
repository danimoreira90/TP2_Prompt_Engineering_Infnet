{
 "cells": [
  {
   "cell_type": "code",
   "execution_count": 1,
   "metadata": {},
   "outputs": [],
   "source": [
    "import pandas, requests"
   ]
  },
  {
   "cell_type": "code",
   "execution_count": 5,
   "metadata": {},
   "outputs": [],
   "source": [
    "import google.generativeai as genai\n",
    "import os\n",
    "from dotenv import load_dotenv"
   ]
  },
  {
   "cell_type": "code",
   "execution_count": 10,
   "metadata": {},
   "outputs": [
    {
     "data": {
      "text/plain": [
       "True"
      ]
     },
     "execution_count": 10,
     "metadata": {},
     "output_type": "execute_result"
    }
   ],
   "source": [
    "load_dotenv('D:\\Pastas\\Infnet\\Infnet - 2024.2\\Engenharia de Prompts\\TP2\\.env')"
   ]
  },
  {
   "cell_type": "markdown",
   "metadata": {},
   "source": [
    "## **Exercício 7:**"
   ]
  },
  {
   "cell_type": "code",
   "execution_count": 14,
   "metadata": {},
   "outputs": [
    {
     "name": "stdout",
     "output_type": "stream",
     "text": [
      "Resumo gerado pelo LLM:\n",
      "response:\n",
      "GenerateContentResponse(\n",
      "    done=True,\n",
      "    iterator=None,\n",
      "    result=protos.GenerateContentResponse({\n",
      "      \"candidates\": [\n",
      "        {\n",
      "          \"content\": {\n",
      "            \"parts\": [\n",
      "              {\n",
      "                \"text\": \"<RESUMO>\\nO Rio de Janeiro sediar\\u00e1 a c\\u00fapula do G20, reunindo l\\u00edderes das maiores economias mundiais, no Museu de Arte Moderna. A cidade se prepara para a chegada dos chefes de estado das 19 na\\u00e7\\u00f5es, al\\u00e9m da Uni\\u00e3o Europeia e da Uni\\u00e3o Africana, para a reuni\\u00e3o de c\\u00fapula que marca o fim de um ano intenso de negocia\\u00e7\\u00f5es diplom\\u00e1ticas.\\n\"\n",
      "              }\n",
      "            ],\n",
      "            \"role\": \"model\"\n",
      "          },\n",
      "          \"finish_reason\": \"STOP\",\n",
      "          \"index\": 0,\n",
      "          \"safety_ratings\": [\n",
      "            {\n",
      "              \"category\": \"HARM_CATEGORY_SEXUALLY_EXPLICIT\",\n",
      "              \"probability\": \"NEGLIGIBLE\"\n",
      "            },\n",
      "            {\n",
      "              \"category\": \"HARM_CATEGORY_HATE_SPEECH\",\n",
      "              \"probability\": \"NEGLIGIBLE\"\n",
      "            },\n",
      "            {\n",
      "              \"category\": \"HARM_CATEGORY_HARASSMENT\",\n",
      "              \"probability\": \"NEGLIGIBLE\"\n",
      "            },\n",
      "            {\n",
      "              \"category\": \"HARM_CATEGORY_DANGEROUS_CONTENT\",\n",
      "              \"probability\": \"NEGLIGIBLE\"\n",
      "            }\n",
      "          ]\n",
      "        }\n",
      "      ],\n",
      "      \"usage_metadata\": {\n",
      "        \"prompt_token_count\": 260,\n",
      "        \"candidates_token_count\": 84,\n",
      "        \"total_token_count\": 344\n",
      "      }\n",
      "    }),\n",
      ")\n"
     ]
    }
   ],
   "source": [
    "#Notícia copiada do portal g1.com:\n",
    "noticia = \"\"\"Daqui a uma semana, o Rio de Janeiro vai receber a cúpula de chefes de Estado do G20, evento que reúne as principais economias do mundo.\n",
    "             O Rio conta os dias para a chegada dos chefes de estados das principais economias do mundo. \n",
    "             O endereço escolhido para a reunião de cúpula do G20 é o Museu de Arte Moderna do Rio. \n",
    "             Será o capítulo final de um ano marcado por muitas reuniões e negociações diplomáticas entre 19 nações, além da União Europeia e da União Africana.\"\"\"\n",
    "\n",
    "prompt = f\"\"\"\n",
    "Resuma a <NOTICIA> trazendo os pontos principais da mesma sem perder o conteúdo.\n",
    "Segue um exemplo do resumo:\n",
    "\n",
    "<NOTÍCIA>\n",
    "\"O Rio de Janeiro sediará o evento G20, no Museu de Arte Moderna. Estarão presentes diversas nações.\"\n",
    "\n",
    "###\n",
    "<RESUMO>\n",
    "\"No G20, no Rio de Janeiro, estarão presentes diversas nações, como a União Européia, União africana e outras. Os cariocas estão ansiosos para o evento.\"\n",
    "\n",
    "Com base nestas diretrizes, resuma a notícia abaixo:\n",
    "<NOTÍCIA>\n",
    "\"{noticia}\"\n",
    "###\n",
    "<RESUMO>\n",
    "\"\"\"\n",
    "\n",
    "# Executando o prompt com o modelo Gemini\n",
    "# Definir a chave de API do Gemini (use a chave fornecida pela sua conta)\n",
    "genai.configure(api_key=os.environ[\"GEMINI_KEY\"])\n",
    "model = genai.GenerativeModel(\"gemini-1.5-flash\")\n",
    "resp = model.generate_content(prompt)\n",
    "\n",
    "# Exibindo a resposta gerada\n",
    "print(\"Resumo gerado pelo LLM:\")\n",
    "print(resp)"
   ]
  },
  {
   "cell_type": "markdown",
   "metadata": {},
   "source": [
    "Avaliando o resumo gerado pelo LLM em relação ao conteúdo apresentado, consideremos:\n",
    "\n",
    "### Conteúdo do Resumo\n",
    "- **Relevância**: O resumo descreve o evento, a cúpula do G20 no Rio de Janeiro, destacando a importância da reunião e os participantes envolvidos, como líderes das maiores economias mundiais e representantes da União Europeia e da União Africana. Isso indica que o resumo está alinhado com o tema da notícia.\n",
    "- **Clareza e Concisão**: O resumo é direto, apresentando informações sobre o evento. Ele comunica o local, os participantes e o contexto do evento.\n",
    "- **Contextualização**: O resumo menciona que a cúpula marca o fim de um ano de intensas negociações diplomáticas, o que ajuda a situar a situação.\n",
    "\n",
    "### Qualidade Técnica\n",
    "- **Coerência**: O texto é coerente, seguindo uma lógica que facilita a compreensão do leitor.\n",
    "- **Gramática e Estilo**: Não há erros gramaticais aparentes, e o estilo é apropriado para um resumo informativo.\n",
    "- **Adequação ao Prompt**: O resumo gerado atende ao pedido do prompt de fornecer um resumo informativo sobre um tópico específico, utilizando a técnica de exemplos para orientar a resposta do modelo.\n",
    "\n",
    "### Pontos de Melhoria\n",
    "- **Detalhes e Profundidade**: Embora o resumo seja eficaz em comunicar os pontos principais, ele poderia incluir mais detalhes sobre as expectativas para a cúpula ou os tópicos específicos de discussão esperados, se essas informações estivessem disponíveis no artigo original.\n",
    "- **Engajamento e Interesse**: Para aumentar o interesse, poderia haver uma citação direta de um dos participantes ou uma menção a uma questão controversa que será discutida, aumentando a relevância e o engajamento do leitor.\n"
   ]
  }
 ],
 "metadata": {
  "kernelspec": {
   "display_name": "Python 3",
   "language": "python",
   "name": "python3"
  },
  "language_info": {
   "codemirror_mode": {
    "name": "ipython",
    "version": 3
   },
   "file_extension": ".py",
   "mimetype": "text/x-python",
   "name": "python",
   "nbconvert_exporter": "python",
   "pygments_lexer": "ipython3",
   "version": "3.11.2"
  }
 },
 "nbformat": 4,
 "nbformat_minor": 2
}
