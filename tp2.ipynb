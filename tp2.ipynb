{
 "cells": [
  {
   "cell_type": "code",
   "execution_count": 3,
   "metadata": {},
   "outputs": [],
   "source": [
    "import pandas, requests"
   ]
  },
  {
   "cell_type": "code",
   "execution_count": 2,
   "metadata": {},
   "outputs": [
    {
     "name": "stderr",
     "output_type": "stream",
     "text": [
      "c:\\Users\\Dani\\AppData\\Local\\Programs\\Python\\Python311\\Lib\\site-packages\\tqdm\\auto.py:21: TqdmWarning: IProgress not found. Please update jupyter and ipywidgets. See https://ipywidgets.readthedocs.io/en/stable/user_install.html\n",
      "  from .autonotebook import tqdm as notebook_tqdm\n"
     ]
    }
   ],
   "source": [
    "import google.generativeai as genai\n",
    "import os\n",
    "from dotenv import load_dotenv"
   ]
  },
  {
   "cell_type": "code",
   "execution_count": 4,
   "metadata": {},
   "outputs": [
    {
     "data": {
      "text/plain": [
       "True"
      ]
     },
     "execution_count": 4,
     "metadata": {},
     "output_type": "execute_result"
    }
   ],
   "source": [
    "load_dotenv('D:\\Pastas\\Infnet\\Infnet - 2024.2\\Engenharia de Prompts\\TP2\\.env')"
   ]
  },
  {
   "cell_type": "markdown",
   "metadata": {},
   "source": [
    "## **Exercício 7:**"
   ]
  },
  {
   "cell_type": "code",
   "execution_count": null,
   "metadata": {},
   "outputs": [
    {
     "name": "stdout",
     "output_type": "stream",
     "text": [
      "Resumo gerado pelo LLM:\n",
      "response:\n",
      "GenerateContentResponse(\n",
      "    done=True,\n",
      "    iterator=None,\n",
      "    result=protos.GenerateContentResponse({\n",
      "      \"candidates\": [\n",
      "        {\n",
      "          \"content\": {\n",
      "            \"parts\": [\n",
      "              {\n",
      "                \"text\": \"<RESUMO>\\nO Rio de Janeiro sediar\\u00e1 a c\\u00fapula do G20, reunindo l\\u00edderes das maiores economias mundiais, no Museu de Arte Moderna. A cidade se prepara para a chegada dos chefes de estado das 19 na\\u00e7\\u00f5es, al\\u00e9m da Uni\\u00e3o Europeia e da Uni\\u00e3o Africana, para a reuni\\u00e3o de c\\u00fapula que marca o fim de um ano intenso de negocia\\u00e7\\u00f5es diplom\\u00e1ticas.\\n\"\n",
      "              }\n",
      "            ],\n",
      "            \"role\": \"model\"\n",
      "          },\n",
      "          \"finish_reason\": \"STOP\",\n",
      "          \"index\": 0,\n",
      "          \"safety_ratings\": [\n",
      "            {\n",
      "              \"category\": \"HARM_CATEGORY_SEXUALLY_EXPLICIT\",\n",
      "              \"probability\": \"NEGLIGIBLE\"\n",
      "            },\n",
      "            {\n",
      "              \"category\": \"HARM_CATEGORY_HATE_SPEECH\",\n",
      "              \"probability\": \"NEGLIGIBLE\"\n",
      "            },\n",
      "            {\n",
      "              \"category\": \"HARM_CATEGORY_HARASSMENT\",\n",
      "              \"probability\": \"NEGLIGIBLE\"\n",
      "            },\n",
      "            {\n",
      "              \"category\": \"HARM_CATEGORY_DANGEROUS_CONTENT\",\n",
      "              \"probability\": \"NEGLIGIBLE\"\n",
      "            }\n",
      "          ]\n",
      "        }\n",
      "      ],\n",
      "      \"usage_metadata\": {\n",
      "        \"prompt_token_count\": 260,\n",
      "        \"candidates_token_count\": 84,\n",
      "        \"total_token_count\": 344\n",
      "      }\n",
      "    }),\n",
      ")\n"
     ]
    }
   ],
   "source": [
    "#Notícia copiada do portal g1.com:\n",
    "noticia = \"\"\"Daqui a uma semana, o Rio de Janeiro vai receber a cúpula de chefes de Estado do G20, evento que reúne as principais economias do mundo.\n",
    "             O Rio conta os dias para a chegada dos chefes de estados das principais economias do mundo. \n",
    "             O endereço escolhido para a reunião de cúpula do G20 é o Museu de Arte Moderna do Rio. \n",
    "             Será o capítulo final de um ano marcado por muitas reuniões e negociações diplomáticas entre 19 nações, além da União Europeia e da União Africana.\"\"\"\n",
    "\n",
    "prompt = f\"\"\"\n",
    "Resuma a <NOTICIA> trazendo os pontos principais da mesma sem perder o conteúdo.\n",
    "Segue um exemplo do resumo:\n",
    "\n",
    "<NOTÍCIA>\n",
    "\"O Rio de Janeiro sediará o evento G20, no Museu de Arte Moderna. Estarão presentes diversas nações.\"\n",
    "\n",
    "###\n",
    "<RESUMO>\n",
    "\"No G20, no Rio de Janeiro, estarão presentes diversas nações, como a União Européia, União africana e outras. Os cariocas estão ansiosos para o evento.\"\n",
    "\n",
    "Com base nestas diretrizes, resuma a notícia abaixo:\n",
    "<NOTÍCIA>\n",
    "\"{noticia}\"\n",
    "###\n",
    "<RESUMO>\n",
    "\"\"\"\n",
    "\n",
    "# Executando o prompt com o modelo Gemini\n",
    "genai.configure(api_key=os.environ[\"GEMINI_KEY\"])\n",
    "model = genai.GenerativeModel(\"gemini-1.5-flash\")\n",
    "resp = model.generate_content(prompt)\n",
    "\n",
    "# Exibindo a resposta gerada\n",
    "print(\"Resumo gerado pelo LLM:\")\n",
    "print(resp)"
   ]
  },
  {
   "cell_type": "markdown",
   "metadata": {},
   "source": [
    "Avaliando o resumo gerado pelo LLM em relação ao conteúdo apresentado, consideremos:\n",
    "\n",
    "### Conteúdo do Resumo\n",
    "- **Relevância**: O resumo descreve o evento, a cúpula do G20 no Rio de Janeiro, destacando a importância da reunião e os participantes envolvidos, como líderes das maiores economias mundiais e representantes da União Europeia e da União Africana. Isso indica que o resumo está alinhado com o tema da notícia.\n",
    "- **Clareza e Concisão**: O resumo é direto, apresentando informações sobre o evento. Ele comunica o local, os participantes e o contexto do evento.\n",
    "- **Contextualização**: O resumo menciona que a cúpula marca o fim de um ano de intensas negociações diplomáticas, o que ajuda a situar a situação.\n",
    "\n",
    "### Qualidade Técnica\n",
    "- **Coerência**: O texto é coerente, seguindo uma lógica que facilita a compreensão do leitor.\n",
    "- **Gramática e Estilo**: Não há erros gramaticais aparentes, e o estilo é apropriado para um resumo informativo.\n",
    "- **Adequação ao Prompt**: O resumo gerado atende ao pedido do prompt de fornecer um resumo informativo sobre um tópico específico, utilizando a técnica de exemplos para orientar a resposta do modelo.\n",
    "\n",
    "### Pontos de Melhoria\n",
    "- **Detalhes e Profundidade**: Embora o resumo seja eficaz em comunicar os pontos principais, ele poderia incluir mais detalhes sobre as expectativas para a cúpula ou os tópicos específicos de discussão esperados, se essas informações estivessem disponíveis no artigo original.\n",
    "- **Engajamento e Interesse**: Para aumentar o interesse, poderia haver uma citação direta de um dos participantes ou uma menção a uma questão controversa que será discutida, aumentando a relevância e o engajamento do leitor.\n"
   ]
  },
  {
   "cell_type": "markdown",
   "metadata": {},
   "source": [
    "## **Exercício 8:**"
   ]
  },
  {
   "cell_type": "code",
   "execution_count": 5,
   "metadata": {},
   "outputs": [
    {
     "name": "stdout",
     "output_type": "stream",
     "text": [
      "Resposta do Modelo:\n",
      "response:\n",
      "GenerateContentResponse(\n",
      "    done=True,\n",
      "    iterator=None,\n",
      "    result=protos.GenerateContentResponse({\n",
      "      \"candidates\": [\n",
      "        {\n",
      "          \"content\": {\n",
      "            \"parts\": [\n",
      "              {\n",
      "                \"text\": \"Entidades mencionadas na not\\u00edcia e suas categorias:\\n\\n**Pessoas:**\\n\\n* **Joe Biden:** Presidente dos Estados Unidos.\\n* **Xi Jinping:** Presidente da China (mencionado implicitamente atrav\\u00e9s da refer\\u00eancia \\u00e0s suas exig\\u00eancias de seguran\\u00e7a).\\n\\n\\n**Locais:**\\n\\n* **Rio de Janeiro:** Cidade onde o G20 ser\\u00e1 realizado.\\n* **Base A\\u00e9rea do Gale\\u00e3o:** Local de aterrissagem dos avi\\u00f5es da delega\\u00e7\\u00e3o americana.\\n* **Hotel na orla do Rio:** Hotel isolado para a delega\\u00e7\\u00e3o chinesa.\\n\\n\\n**Eventos:**\\n\\n* **G20:** Encontro de chefes de estado.\\n\\n\\n**Organiza\\u00e7\\u00f5es:**\\n\\n* **Delega\\u00e7\\u00e3o de Joe Biden:** Equipe que acompanha o presidente americano.\\n* **Delega\\u00e7\\u00e3o chinesa:** Equipe que acompanha o presidente chin\\u00eas.\\n* **Equipes de escolta:** Respons\\u00e1veis pela seguran\\u00e7a do evento.\\n* **Estados Unidos:** Pa\\u00eds de origem da delega\\u00e7\\u00e3o de Joe Biden.\\n* **China:** Pa\\u00eds de origem da delega\\u00e7\\u00e3o de Xi Jinping.\\n\\nNote que algumas entidades poderiam ser categorizadas de diferentes maneiras dependendo do n\\u00edvel de detalhe. Por exemplo, \\\"Base A\\u00e9rea do Gale\\u00e3o\\\" poderia ser considerada tamb\\u00e9m uma instala\\u00e7\\u00e3o militar.  A classifica\\u00e7\\u00e3o apresentada acima procura ser a mais direta e concisa poss\\u00edvel, com base no contexto da not\\u00edcia.\\n\"\n",
      "              }\n",
      "            ],\n",
      "            \"role\": \"model\"\n",
      "          },\n",
      "          \"finish_reason\": \"STOP\",\n",
      "          \"avg_logprobs\": -0.13380188753955252\n",
      "        }\n",
      "      ],\n",
      "      \"usage_metadata\": {\n",
      "        \"prompt_token_count\": 279,\n",
      "        \"candidates_token_count\": 279,\n",
      "        \"total_token_count\": 558\n",
      "      }\n",
      "    }),\n",
      ")\n",
      "Resposta do Modelo:\n",
      "response:\n",
      "GenerateContentResponse(\n",
      "    done=True,\n",
      "    iterator=None,\n",
      "    result=protos.GenerateContentResponse({\n",
      "      \"candidates\": [\n",
      "        {\n",
      "          \"content\": {\n",
      "            \"parts\": [\n",
      "              {\n",
      "                \"text\": \"## Entidades mencionadas na not\\u00edcia e suas categorias:\\n\\n**Pessoas:**\\n\\n* **Luiz In\\u00e1cio Lula da Silva:** Presidente da Rep\\u00fablica (Pessoa, Pol\\u00edtico)\\n* **Felipe Neto:** Influenciador digital (Pessoa)\\n* **Alceu Valen\\u00e7a:** Cantor (Pessoa, Artista)\\n* **Ney Matogrosso:** Cantor (Pessoa, Artista)\\n\\n\\n**Locais:**\\n\\n* **P\\u00eder Mau\\u00e1:** Local do evento Cria G20 (Local)\\n* **Armaz\\u00e9m da Utopia:** Local do evento U20 (Local)\\n\\n\\n**Eventos:**\\n\\n* **C\\u00fapula do G20 Social:** Evento paralelo \\u00e0 c\\u00fapula principal do G20 (Evento)\\n* **C\\u00fapula do G20:** Encontro global entre chefes de estado (Evento)\\n* **G20 Talks Combate \\u00e0 Desinforma\\u00e7\\u00e3o:** Evento dentro do Cria G20 (Evento)\\n* **Encerramento do U20:** Evento final do U20 (Evento)\\n* **Shows de Alceu e Ney Matogrosso:**  Apresenta\\u00e7\\u00f5es musicais (Evento)\\n\\n\\n**Organiza\\u00e7\\u00f5es:**\\n\\n* **G20:** Grupo de 20 economias l\\u00edderes mundiais (Organiza\\u00e7\\u00e3o Internacional)\\n* **U20:** Maior encontro de prefeitos do mundo (Organiza\\u00e7\\u00e3o)\\n* **Cria G20:**  Grupo de engajamento do G20 Social (Organiza\\u00e7\\u00e3o)\\n\\n\\n**Observa\\u00e7\\u00e3o:**  A \\\"Declara\\u00e7\\u00e3o Final da C\\u00fapula Social\\\" poderia ser categorizada como um documento ou artefato, mas est\\u00e1 intrinsecamente ligada ao evento da C\\u00fapula Social.  \\\"Intelig\\u00eancia Artificial\\\" \\u00e9 um conceito tecnol\\u00f3gico e n\\u00e3o uma entidade no sentido tradicional da palavra.\\n\"\n",
      "              }\n",
      "            ],\n",
      "            \"role\": \"model\"\n",
      "          },\n",
      "          \"finish_reason\": \"STOP\",\n",
      "          \"avg_logprobs\": -0.10415155747357537\n",
      "        }\n",
      "      ],\n",
      "      \"usage_metadata\": {\n",
      "        \"prompt_token_count\": 335,\n",
      "        \"candidates_token_count\": 374,\n",
      "        \"total_token_count\": 709\n",
      "      }\n",
      "    }),\n",
      ")\n",
      "Resposta do Modelo:\n",
      "response:\n",
      "GenerateContentResponse(\n",
      "    done=True,\n",
      "    iterator=None,\n",
      "    result=protos.GenerateContentResponse({\n",
      "      \"candidates\": [\n",
      "        {\n",
      "          \"content\": {\n",
      "            \"parts\": [\n",
      "              {\n",
      "                \"text\": \"Entidades mencionadas na not\\u00edcia e suas categorias:\\n\\n* **Pessoas:** Estudantes (categoria gen\\u00e9rica, n\\u00e3o s\\u00e3o nomeadas individualmente)  L\\u00edderes mundiais (categoria gen\\u00e9rica)\\n\\n* **Locais:** Brasil (pa\\u00eds), v\\u00e1rios cantos do pa\\u00eds (local gen\\u00e9rico),  local do G20 Social (n\\u00e3o especificado)\\n\\n* **Eventos:** G20 (evento/ c\\u00fapula), G20 Social (evento),  C\\u00fapula dos l\\u00edderes mundiais (evento)\\n\\n* **Organiza\\u00e7\\u00f5es:** Governo brasileiro, sociedade civil, G20 (tamb\\u00e9m pode ser considerado um evento, mas funciona como uma organiza\\u00e7\\u00e3o internacional)\\n\\n\\n\\u00c9 importante notar que a not\\u00edcia n\\u00e3o menciona nomes espec\\u00edficos de pessoas,  apenas categorias gen\\u00e9ricas.  A localiza\\u00e7\\u00e3o do G20 Social tamb\\u00e9m n\\u00e3o \\u00e9 explicitada.\\n\"\n",
      "              }\n",
      "            ],\n",
      "            \"role\": \"model\"\n",
      "          },\n",
      "          \"finish_reason\": \"STOP\",\n",
      "          \"avg_logprobs\": -0.17978731056169278\n",
      "        }\n",
      "      ],\n",
      "      \"usage_metadata\": {\n",
      "        \"prompt_token_count\": 209,\n",
      "        \"candidates_token_count\": 173,\n",
      "        \"total_token_count\": 382\n",
      "      }\n",
      "    }),\n",
      ")\n"
     ]
    }
   ],
   "source": [
    "# Notícias\n",
    "noticias = [\n",
    "    \"\"\"Água própria para Biden e praia fechada para Xi Jinping: veja as exigências de segurança de líderes do G20\n",
    "       Dois aviões trouxeram equipamentos para a delegação de Joe Biden que lotaram 7 caminhões baú. \n",
    "       Já os chineses isolaram um hotel inteiro na orla do Rio e pediram varredura nos 400 quartos.\n",
    "       O encontro de chefes de estado no G20 começa na segunda-feira (18), mas o esquema para receber os líderes mundiais já movimenta os responsáveis pela segurança do evento.\n",
    "       A delegação do Estados Unidos, por exemplo, trouxe galões de água para o presidente Joe Biden. Dois aviões americanos aterrissaram na Base Aérea do Galeão, no último dia 6. \n",
    "       A quantidade de equipamentos surpreendeu as equipes de escolta. Sete caminhões baú deixaram o local repletos de água e de comida. O presidente americano chega ao Rio domingo (17).\n",
    "       As aeronaves ainda trouxeram ao Rio um helicóptero e o carro que o presidente americano usará para seus deslocamentos enquanto estiver na cidade.\"\"\",\n",
    "\n",
    "    \"\"\"Programação do G20 deste sábado tem Lula no G20 Social, IA no U20, Felipe Neto contra fake news e shows de Alceu e Ney Matogrosso\n",
    "       Presidente da República recebe a Declaração Final da Cúpula Social.\n",
    "       Chega ao fim nesse sábado (16) a Cúpula do G20 Social, o evento paralelo que antecede a cúpula do encontro global entre os chefes de estado, \n",
    "       na segunda-feira (18) e na terça-feira (19). No encerramento, o presidente Luiz Inácio Lula da Silva receberá a Declaração Final da Cúpula Social, \n",
    "       com as propostas elaboradas durante os encontros dos 13 grupos de engajamento do G20 Social (veja local e horário abaixo).\n",
    "       No Cria G20, que acontece no Píer Mauá, das 9h às 18h, o destaque é o G20 Talks Combate à Desinformação, com a participação de Felipe Neto, às 13h30.\n",
    "       No maior encontro de prefeitos do mundo, o U20, no Armazém da Utopia, é dia do último evento aberto ao público – o encerramento, fechado, será no domingo (17). \n",
    "       O palco principal destacará a sessão \"Inteligência Artificial para o Bem Social\".\"\"\",\n",
    "\n",
    "    \"\"\"Clima, combate à fome e governança global são as três prioridades do governo brasileiro no G20\n",
    "       Os temas também estão sendo debatidos no G20 Social, iniciativa do Brasil para ouvir as demandas da sociedade civil antes da cúpula dos líderes mundiais. \n",
    "       Estudantes de vários cantos do país lotaram o evento.\n",
    "       A mudança do clima é uma das três prioridades da presidência brasileira no G20, que começa na segunda-feira.\n",
    "       Os temas também estão sendo debatidos no G20 Social, iniciativa do Brasil para ouvir as demandas da sociedade civil que serão apresentadas aos líderes mundiais.\n",
    "       Estudantes de vários cantos do país lotaram as primeiras filas. Todos interessados num tema difícil: a reforma da governança global, uma das prioridades do Brasil no G20.\"\"\"\n",
    "]\n",
    "\n",
    "# Prompt para identificação de entidades\n",
    "prompts = [\n",
    "    f\"\"\"\n",
    "    Identifique as entidades mencionadas na seguinte notícia e categorize-as (pessoas, locais, eventos, organizações):\n",
    "    Notícia: {noticias[0]}\n",
    "    Entidades:\n",
    "    \"\"\",\n",
    "    f\"\"\"\n",
    "    Identifique as entidades mencionadas na seguinte notícia e categorize-as (pessoas, locais, eventos, organizações):\n",
    "    Notícia: {noticias[1]}\n",
    "    Entidades:\n",
    "    \"\"\",\n",
    "    f\"\"\"\n",
    "    Identifique as entidades mencionadas na seguinte notícia e categorize-as (pessoas, locais, eventos, organizações):\n",
    "    Notícia: {noticias[2]}\n",
    "    Entidades:\n",
    "    \"\"\"\n",
    "]\n",
    "\n",
    "# Configuração da API Gemini\n",
    "genai.configure(api_key=os.environ[\"GEMINI_KEY\"])\n",
    "model = genai.GenerativeModel(\"gemini-1.5-flash\")\n",
    "\n",
    "# Processamento das notícias\n",
    "for prompt in prompts:\n",
    "    response = model.generate_content(prompt)\n",
    "    print(\"Resposta do Modelo:\")\n",
    "    print(response)"
   ]
  },
  {
   "cell_type": "markdown",
   "metadata": {},
   "source": [
    "### **Avaliação das respsostas geradas:**"
   ]
  },
  {
   "cell_type": "markdown",
   "metadata": {},
   "source": [
    "\n",
    "\n",
    "### Notícia 1:\n",
    "- **Pessoas Identificadas**: Joe Biden, Xi Jinping (implicitamente)\n",
    "- **Locais Identificados**: Rio de Janeiro, Base Aérea do Galeão, hotel na orla do Rio\n",
    "- **Eventos Identificados**: G20\n",
    "- **Organizações Identificadas**: Delegação de Joe Biden, Delegação chinesa, Equipes de escolta, Estados Unidos, China\n",
    "\n",
    "**Avaliação**: A resposta parece precisa, identificando corretamente as entidades e categorizando-as. A menção implícita a Xi Jinping, indicando a sensibilidade do modelo em interpretar o contexto, é notável. A classificação é relevante para o contexto da notícia.\n",
    "\n",
    "### Notícia 2:\n",
    "- **Pessoas Identificadas**: Luiz Inácio Lula da Silva, Felipe Neto, Alceu Valença, Ney Matogrosso\n",
    "- **Locais Identificados**: Píer Mauá, Armazém da Utopia\n",
    "- **Eventos Identificados**: Cúpula do G20 Social, G20, G20 Talks Combate à Desinformação, Encerramento do U20, Shows de Alceu e Ney Matogrosso\n",
    "- **Organizações Identificadas**: G20, U20, Cria G20\n",
    "\n",
    "**Avaliação**: Esta resposta também mostra precisão, capturando uma ampla gama de entidades relevantes e fornecendo detalhes específicos sobre os locais e eventos. A menção de figuras públicas e eventos específicos ajuda a entender o escopo da reunião. A observação sobre \"Inteligência Artificial\" como conceito, e não como entidade, destaca a capacidade do modelo de discernir diferentes tipos de informação.\n",
    "\n",
    "### Notícia 3:\n",
    "- **Pessoas Identificadas**: Estudantes, líderes mundiais (categorias genéricas)\n",
    "- **Locais Identificados**: Brasil, vários cantos do país\n",
    "- **Eventos Identificados**: G20, G20 Social, Cúpula dos líderes mundiais\n",
    "- **Organizações Identificadas**: Governo brasileiro, sociedade civil, G20\n",
    "\n",
    "**Avaliação**: A resposta é correta, porém mais genérica em comparação com as outras. O modelo capturou as categorias principais de entidades, mas faltaram detalhes específicos que poderiam ser mais esclarecedores. A falta de nomes específicos é compreensível dada a natureza da notícia.\n",
    "\n",
    "### Conclusão Geral:\n",
    "As respostas do modelo são satisfatórias. O modelo conseguiu identificar corretamente a variedade de entidades e categorizá-las. Isso indica que os prompts apropriadamente formulados e o modelo é capaz de extrair e classificar informações."
   ]
  },
  {
   "cell_type": "markdown",
   "metadata": {},
   "source": [
    "## **Exercício 9:**"
   ]
  },
  {
   "cell_type": "code",
   "execution_count": 8,
   "metadata": {},
   "outputs": [
    {
     "name": "stdout",
     "output_type": "stream",
     "text": [
      "Total de tokens para o texto de entrada: total_tokens: 945\n",
      "\n",
      "Metadados de uso da resposta:\n",
      "Tokens de entrada (prompt_token_count): 946\n",
      "Tokens de saída (candidates_token_count): 772\n",
      "Total de tokens (total_token_count): 1718\n"
     ]
    }
   ],
   "source": [
    "# Carregar modelo\n",
    "model = genai.GenerativeModel(\"models/gemini-1.5-flash\")\n",
    "\n",
    "# Exemplo de texto com aproximadamente 5.000 palavras\n",
    "text = \"\"\"Techno-Economic Analysis of Floating Solar Photovoltaic Power Plants by Design Parameters\n",
    "1. Introduction\n",
    "The opening section delves into the techno-economic evaluation of floating solar photovoltaic power facilities and their capacity to generate power and diminish carbon emissions. \n",
    "Its objective is to tackle obstacles in deploying extensive floating solar plants and take into account design factors. The assessment also acknowledges the ecological advantages \n",
    "and seeks to offer understanding for policymakers and players in the industry. Additional investigation is required to ascertain economic feasibility and decrease costs in the floating \n",
    "solar sector.[1][2][3][4][5][6][7][8][9][10][11]. Moreover, the introduction outlines specific research objectives, such as providing individual generation profiles and cost criteria \n",
    "for successful projects on suitable water bodies, laying the foundations for the exploitation of high-altitude floating solar technology. This sets a clear framework for the subsequent \n",
    "content, offering a roadmap for the study and emphasizing the significance of the research in contributing to a sustainable future. (Charles Rajesh Kumar & Majid, 2023)(Gorjian et al.2021)\n",
    "1.1. Background and Rationale - Floating solar photovoltaic (PV) power plants have gained attention due to their potential to address environmental, economic, and technological challenges.\n",
    "The concept of floating PV installations has evolved over the years, with innovative designs aimed at reducing costs and increasing reliability. For instance, \n",
    "the offshore floating PV concept developed at MIRARCO in 2010 features a scalable array with terminal connectors and buoyancy incorporated within the panels, allowing the structure \n",
    "to yield with wave motion and reduce loading force on moorings [13]. Additionally, the SUNdy concept by DNV in 2012 consists of thin film PV panels connected to electrical bus lines, \n",
    "laminated to a flexible foam surface for buoyancy and structure, with embedded micro-inverters for electricity conversion. Moreover, the suitability of high-altitude floating solar power \n",
    "has been demonstrated to provide land-sparing, low-carbon electricity in mountainous regions, offering significant CO2 emissions reduction and environmental benefits [11]. \n",
    "The potential for integrating floating solar with existing storage and grid connections through hybrid systems further underscores its relevance in decarbonization efforts, \n",
    "while also highlighting the need for further research to ensure economic viability without subsidies or storage. These developments underscore the growing importance of \n",
    "floating solar PV power plants in addressing energy and environmental challenges, providing crucial context for the research in this area.\n",
    "1.2. Research Objective - The research objectives of this study on the techno-economic analysis of floating solar photovoltaic power plants are multifaceted. Firstly, the study aims \n",
    "to assess the economic viability of floating solar photovoltaic (PV) power plants by considering design parameters such as the type of water body, floating structure, and PV panel \n",
    "orientation. Secondly, it seeks to evaluate the technical feasibility of floating PV installations by analyzing factors like electrical efficiency, maintenance requirements, and \n",
    "environmental impact. Lastly, the research aims to provide insights into the policy and regulatory aspects that influence the deployment of floating solar PV systems, particularly \n",
    "in the context of land use debates and offshore renewable technologies [13]. Additionally, the study will draw from the theoretical pre-assessment of solar photovoltaic electrical \n",
    "production for commercial retail centers to incorporate key considerations such as environmental concerns, policy factors, technical dynamics, and financial evaluation criteria into \n",
    "the techno-economic analysis of floating solar PV power plants [14]. By addressing these research objectives, the study aims to contribute to the understanding of the potential of \n",
    "floating solar PV as a sustainable and commercially viable renewable energy solution.\n",
    "2. Literature Review - The literature on floating solar photovoltaic (PV) installations and design parameters reveals a range of innovative approaches and considerations. \n",
    "[13] present two concepts for  offshore environments, utilizing flexible thin film PV to generate electricity. One concept features a single scalable array designed to decrease the \n",
    "number of components, while the  other, SUNdy by DNV, consists of thin film PV panels connected to electrical bus lines, with laminated panels adhered to a flexible foam surface for \n",
    "buoyancy. These concepts aim to  reduce loading force on moorings and increase reliability, with a focus on direct contact with water for cooling and self-cleaning.\n",
    "[11] highlight the potential of high-altitude floating solar technology to provide land-sparing, low-carbon electricity in mountainous regions. The study emphasizes the environmental \n",
    "benefits and potential for significant CO2 offsets, making a strong case for pursuing this technology.\"\"\"\n",
    "\n",
    "# Contagem de tokens do texto\n",
    "total_tokens = model.count_tokens(text)\n",
    "print(f\"Total de tokens para o texto de entrada: {total_tokens}\")\n",
    "\n",
    "# Gerar conteúdo e obter metadados de uso\n",
    "response = model.generate_content(text)\n",
    "print(\"Metadados de uso da resposta:\")\n",
    "print(f\"Tokens de entrada (prompt_token_count): {response.usage_metadata.prompt_token_count}\")\n",
    "print(f\"Tokens de saída (candidates_token_count): {response.usage_metadata.candidates_token_count}\")\n",
    "print(f\"Total de tokens (total_token_count): {response.usage_metadata.total_token_count}\")"
   ]
  },
  {
   "cell_type": "markdown",
   "metadata": {},
   "source": [
    "\n",
    "- **Tokens e Custo**: A quantidade de tokens diretamente impacta o custo de processamento na API. Cada token representa uma carga computacional e, dependendo do plano de uso da API, um custo monetário associado.\n",
    "  \n",
    "- **Desempenho**: A administração eficaz do número de tokens é crucial, especialmente para textos longos. Isso porque grandes volumes de tokens podem exigir mais tempo para processamento e, dependendo das limitações do modelo (como uma janela de contexto), podem necessitar de técnicas adicionais como a segmentação do texto para processamento em partes.\n",
    "\n"
   ]
  },
  {
   "cell_type": "markdown",
   "metadata": {},
   "source": [
    "## **Exercício 11:**"
   ]
  },
  {
   "cell_type": "code",
   "execution_count": 10,
   "metadata": {},
   "outputs": [],
   "source": [
    "import yaml\n"
   ]
  },
  {
   "cell_type": "code",
   "execution_count": 12,
   "metadata": {},
   "outputs": [],
   "source": [
    "with open('roteiro.yaml', 'r',  encoding='utf-8') as file:\n",
    "    roteiro = yaml.safe_load(file)"
   ]
  },
  {
   "cell_type": "code",
   "execution_count": 13,
   "metadata": {},
   "outputs": [
    {
     "name": "stdout",
     "output_type": "stream",
     "text": [
      "Resposta para Atenas:\n",
      "response:\n",
      "GenerateContentResponse(\n",
      "    done=True,\n",
      "    iterator=None,\n",
      "    result=protos.GenerateContentResponse({\n",
      "      \"candidates\": [\n",
      "        {\n",
      "          \"content\": {\n",
      "            \"parts\": [\n",
      "              {\n",
      "                \"text\": \"Aqui est\\u00e3o tr\\u00eas pontos tur\\u00edsticos principais de Atenas, incluindo o n\\u00famero anual estimado de visitantes e uma breve descri\\u00e7\\u00e3o:\\n\\n1. **Acr\\u00f3pole de Atenas:**  Aproximadamente 2 milh\\u00f5es de visitantes por ano.  Um complexo de edif\\u00edcios antigos na parte superior de uma colina rochosa que domina a cidade de Atenas.  Seu monumento mais famoso \\u00e9 o Parthenon, um templo d\\u00f3rico dedicado \\u00e0 deusa Atena, a padroeira de Atenas.  A Acr\\u00f3pole tamb\\u00e9m inclui outros edif\\u00edcios importantes como o Erechtheion, o Propileu e o Templo de Atena Nike.  Oferece vistas panor\\u00e2micas da cidade e representa um marco fundamental da civiliza\\u00e7\\u00e3o grega antiga.\\n\\n\\n2. **Museu da Acr\\u00f3pole:** Mais de 1,5 milh\\u00f5es de visitantes por ano.  Este museu moderno abriga uma cole\\u00e7\\u00e3o extensa de artefatos encontrados na Acr\\u00f3pole e seus arredores, cobrindo um per\\u00edodo que se estende desde a Idade da Pedra at\\u00e9 a \\u00e9poca romana.  A cole\\u00e7\\u00e3o inclui esculturas, cer\\u00e2micas, e outros objetos que oferecem insights valiosos sobre a hist\\u00f3ria e a cultura da Acr\\u00f3pole e da Atenas antiga.  Sua arquitetura moderna complementa a beleza das rel\\u00edquias antigas que abriga.\\n\\n\\n3. **\\u00c1gora Antiga de Atenas:** Cerca de 500.000 visitantes por ano.  O cora\\u00e7\\u00e3o da vida p\\u00fablica e social da antiga Atenas.  A \\u00c1gora era um espa\\u00e7o aberto cercado por v\\u00e1rios edif\\u00edcios importantes, incluindo templos, estoas (colunatas), e edif\\u00edcios p\\u00fablicos.  As ru\\u00ednas da \\u00c1gora, incluindo a bem preservada Estoa de \\u00c1talo, permitem aos visitantes vislumbrar a vida cotidiana na antiga Gr\\u00e9cia.  A \\u00c1gora oferece uma perspectiva complementar \\u00e0 Acr\\u00f3pole, mostrando um outro aspecto fundamental da antiga sociedade ateniense.\\n\"\n",
      "              }\n",
      "            ],\n",
      "            \"role\": \"model\"\n",
      "          },\n",
      "          \"finish_reason\": \"STOP\",\n",
      "          \"avg_logprobs\": -0.33261979775985484\n",
      "        }\n",
      "      ],\n",
      "      \"usage_metadata\": {\n",
      "        \"prompt_token_count\": 156,\n",
      "        \"candidates_token_count\": 394,\n",
      "        \"total_token_count\": 550\n",
      "      }\n",
      "    }),\n",
      ")\n",
      "Resposta para Roma:\n",
      "response:\n",
      "GenerateContentResponse(\n",
      "    done=True,\n",
      "    iterator=None,\n",
      "    result=protos.GenerateContentResponse({\n",
      "      \"candidates\": [\n",
      "        {\n",
      "          \"content\": {\n",
      "            \"parts\": [\n",
      "              {\n",
      "                \"text\": \"Aqui est\\u00e3o tr\\u00eas pontos tur\\u00edsticos principais de Roma, incluindo o n\\u00famero anual aproximado de visitantes e uma breve descri\\u00e7\\u00e3o:\\n\\n1. **Coliseu:** Este ic\\u00f4nico anfiteatro oval, constru\\u00eddo no s\\u00e9culo I d.C., \\u00e9 um s\\u00edmbolo mundialmente reconhecido de Roma e do Imp\\u00e9rio Romano.  A arena abrigava espet\\u00e1culos p\\u00fablicos como lutas de gladiadores e execu\\u00e7\\u00f5es.  Atrai aproximadamente **7,6 milh\\u00f5es de visitantes por ano**.\\n\\n2. **Fonte de Trevi:**  Uma deslumbrante fonte barroca projetada pelo Nicola Salvi, a Fonte de Trevi \\u00e9 famosa por sua beleza e pela tradi\\u00e7\\u00e3o de jogar uma moeda na \\u00e1gua para garantir um retorno a Roma.  Recebe aproximadamente **7 milh\\u00f5es de visitantes por ano**.\\n\\n3. **Vaticano:**  Um estado independente dentro de Roma, o Vaticano abriga a Cidade do Vaticano, incluindo a Bas\\u00edlica de S\\u00e3o Pedro \\u2013 uma das maiores e mais importantes igrejas cat\\u00f3licas do mundo \\u2013 e os Museus Vaticanos, lar de in\\u00fameras obras-primas de arte e da Capela Sistina com os famosos afrescos de Michelangelo. O n\\u00famero anual de visitantes \\u00e9 dif\\u00edcil de precisar com exatid\\u00e3o, uma vez que engloba diferentes locais, mas ultrapassa facilmente **5 milh\\u00f5es de visitantes anualmente** (se considerarmos individualmente a Bas\\u00edlica e os Museus Vaticanos, cada um atrai milh\\u00f5es de visitantes por ano).\\n\"\n",
      "              }\n",
      "            ],\n",
      "            \"role\": \"model\"\n",
      "          },\n",
      "          \"finish_reason\": \"STOP\",\n",
      "          \"avg_logprobs\": -0.2352802777531171\n",
      "        }\n",
      "      ],\n",
      "      \"usage_metadata\": {\n",
      "        \"prompt_token_count\": 128,\n",
      "        \"candidates_token_count\": 297,\n",
      "        \"total_token_count\": 425\n",
      "      }\n",
      "    }),\n",
      ")\n"
     ]
    }
   ],
   "source": [
    "# Função para executar prompt\n",
    "def execute_prompt(city):\n",
    "    prompt = roteiro['roteiro'][city]['prompt']\n",
    "    response = model.generate_content(prompt)\n",
    "    print(f\"Resposta para {city.capitalize()}:\")\n",
    "    print(response)\n",
    "\n",
    "# Executando os prompts para cada cidade\n",
    "execute_prompt('atenas')\n",
    "execute_prompt('roma')"
   ]
  },
  {
   "cell_type": "markdown",
   "metadata": {},
   "source": [
    "\n",
    "\n",
    "### Resposta para Atenas:\n",
    "- **Acrópole de Atenas:** A descrição menciona o Parthenon e outros edifícios como o Erechtheion, o Propileu e o Templo de Atena Nike. A menção de 2 milhões de visitantes por ano está alinhada com as estimativas comuns para este sítio histórico.\n",
    "- **Museu da Acrópole:** A resposta descreve o museu moderno e seu foco em artefatos da Acrópole, oferecendo um resumo do que os visitantes podem esperar ao explorar suas coleções. A visitação de mais de 1,5 milhão é plausível.\n",
    "- **Ágora Antiga de Atenas:** A descrição da Ágora como coração da vida pública e social da antiga Atenas, incluindo detalhes sobre as ruínas e a Estoa de Átalo, é correta e informativa.\n",
    "\n",
    "### Resposta para Roma:\n",
    "- **Coliseu:** A resposta captura a essência do Coliseu, destacando sua função e popularidade, com 7,6 milhões de visitantes por ano, um número que  mostra a realidade do local como uma das atrações mais visitadas.\n",
    "- **Fonte de Trevi:** A descrição da Fonte de Trevi é precisa, ressaltando a arquitetura barroca e a tradição de jogar moedas. O número de visitantes também corresponde à popularidade do ponto turístico.\n",
    "- **Vaticano:** A descrição do Vaticano como estado independente dentro de Roma que inclui a Basílica de São Pedro e os Museus Vaticanos é precisa e bem detalhada. A estimativa de visitantes é ampla, mas acurada, considerando a atração que estes locais possuem.\n",
    "\n",
    "### Avaliação Geral:\n",
    "As respostas dos modelos são relevantes e precisas. Elas fornecem listagens de pontos turísticos e incorporam detalhes culturais e históricos que enriquecem a compreensão. As estimativas de visitantes para cada local são realistas e ajudam a contextualizar a popularidade desses destinos turísticos.\n",
    "\n",
    "Ambas as respostas mostram um alto nível de competência na geração de conteúdo informativo e relevante, ideal para um guia turístico ou material promocional."
   ]
  },
  {
   "cell_type": "markdown",
   "metadata": {},
   "source": [
    "## **Exercício 12:**"
   ]
  },
  {
   "cell_type": "code",
   "execution_count": 16,
   "metadata": {},
   "outputs": [],
   "source": [
    "with open('questao_12.yaml', 'r',  encoding='utf-8') as file:\n",
    "    roteiro = yaml.safe_load(file)"
   ]
  },
  {
   "cell_type": "code",
   "execution_count": 23,
   "metadata": {},
   "outputs": [],
   "source": [
    "import matplotlib.pyplot as plt\n",
    "import json\n",
    "import pandas as pd"
   ]
  },
  {
   "cell_type": "code",
   "execution_count": 25,
   "metadata": {},
   "outputs": [
    {
     "data": {
      "image/png": "[encoded data removed]",
      "text/plain": [
       "<Figure size 1000x700 with 1 Axes>"
      ]
     },
     "metadata": {},
     "output_type": "display_data"
    }
   ],
   "source": [
    "json_data = \"\"\"\n",
    "{\n",
    "  \"Atenas\": [\n",
    "    {\"nome\": \"Acrópole de Atenas\", \"visitantes\": 2000000, \"descrição\": \"Um complexo de edifícios antigos...\"},\n",
    "    {\"nome\": \"Museu da Acrópole\", \"visitantes\": 1500000, \"descrição\": \"Museu moderno que abriga artefatos...\"},\n",
    "    {\"nome\": \"Ágora Antiga de Atenas\", \"visitantes\": 500000, \"descrição\": \"Coração da vida pública e social...\"}\n",
    "  ],\n",
    "  \"Roma\": [\n",
    "    {\"nome\": \"Coliseu\", \"visitantes\": 7600000, \"descrição\": \"Anfiteatro histórico que abrigava...\"},\n",
    "    {\"nome\": \"Fonte de Trevi\", \"visitantes\": 7000000, \"descrição\": \"Fonte barroca famosa...\"},\n",
    "    {\"nome\": \"Vaticano\", \"visitantes\": 5000000, \"descrição\": \"Estado independente que inclui a Basílica...\"}\n",
    "  ]\n",
    "}\n",
    "\"\"\"\n",
    "\n",
    "# Carregar os dados JSON para um dicionário Python\n",
    "data = json.loads(json_data)\n",
    "\n",
    "# Extrair os dados para DataFrame\n",
    "# Corrigindo a forma como o json_normalize é chamado:\n",
    "# Criando uma lista com todos os pontos turísticos para fácil processamento.\n",
    "points = data['Atenas'] + data['Roma']\n",
    "city_labels = ['Atenas']*len(data['Atenas']) + ['Roma']*len(data['Roma'])\n",
    "\n",
    "# Convertendo para DataFrame\n",
    "df = pd.DataFrame(points)\n",
    "df['City'] = city_labels\n",
    "\n",
    "# Plotar gráfico de barras horizontais\n",
    "plt.figure(figsize=(10, 7))\n",
    "colors = {'Atenas': 'blue', 'Roma': 'red'}\n",
    "for city, group in df.groupby('City'):\n",
    "    plt.barh(group['nome'], group['visitantes'], color=colors[city], label=f'{city} (n={len(group)})')\n",
    "plt.xlabel('Número Anual de Visitantes')\n",
    "plt.title('Número Anual de Visitantes nos Pontos Turísticos de Atenas e Roma')\n",
    "plt.legend()\n",
    "plt.show()"
   ]
  }
 ],
 "metadata": {
  "kernelspec": {
   "display_name": "Python 3",
   "language": "python",
   "name": "python3"
  },
  "language_info": {
   "codemirror_mode": {
    "name": "ipython",
    "version": 3
   },
   "file_extension": ".py",
   "mimetype": "text/x-python",
   "name": "python",
   "nbconvert_exporter": "python",
   "pygments_lexer": "ipython3",
   "version": "3.11.2"
  }
 },
 "nbformat": 4,
 "nbformat_minor": 2
}
